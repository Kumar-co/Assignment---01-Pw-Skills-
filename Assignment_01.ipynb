{
  "nbformat": 4,
  "nbformat_minor": 0,
  "metadata": {
    "colab": {
      "provenance": []
    },
    "kernelspec": {
      "name": "python3",
      "display_name": "Python 3"
    },
    "language_info": {
      "name": "python"
    }
  },
  "cells": [
    {
      "cell_type": "code",
      "execution_count": 11,
      "metadata": {
        "id": "YmTgEsaRgjVH"
      },
      "outputs": [],
      "source": [
        "#Q1. Create one variable containing following type of data:\n",
        "#(i) string\n",
        "#(ii) list\n",
        "#(iii) float\n",
        "#(iv) tuple\n",
        "\n",
        "my_string = \"This is a string\"\n",
        "\n",
        "my_list = [1,2,3,4,5]\n",
        "\n",
        "my_float = 3.14\n",
        "\n",
        "my_tuple = (1,2,3,4,5)\n",
        "\n",
        "\n",
        "\n"
      ]
    },
    {
      "cell_type": "code",
      "source": [
        " #Q2. Given are some following variables containing data:\n",
        "#(i) var1 = ‘ ‘\n",
        "#(ii) var2 = ‘[ DS , ML , Python]’\n",
        "#(iii) var3 = [ ‘DS’ , ’ML’ , ‘Python’ ]\n",
        "#(iv) var4 = 1.\n",
        "\n",
        "# What will be the data type of the above given variable.\n",
        "\n",
        "#Answer\n",
        "#1. var1 = ‘ ‘: This variable is a string containing a single space character. It’s not an empty string, but rather a string with a space.\n",
        "\n",
        "#2. var2 = ‘[ DS , ML , Python]’: This variable is a string that visually resembles a list, but it’s actually just a string representation of that list. It contains the text [ DS , ML , Python], including the brackets and commas.\n",
        "\n",
        "#3. var3 = [ ‘DS’ , ’ML’ , ‘Python’ ]: This variable is a list of strings. It contains three elements: 'DS', 'ML', and 'Python'.\n",
        "\n",
        "#4. var4 = 1.: This variable is a float with the value 1.0.\n",
        "\n",
        "\n",
        "\n"
      ],
      "metadata": {
        "id": "QLaG5hbKhW_u"
      },
      "execution_count": 18,
      "outputs": []
    },
    {
      "cell_type": "code",
      "source": [
        "#Q3. Explain the use of the following operators using an example:\n",
        "#(i) /\n",
        "#(ii) %\n",
        "#(iii) //\n",
        "#(iv) **\n",
        "\n",
        "#Answer\n",
        "#(i)Division operator\n",
        "result=10/3\n",
        "print(result)"
      ],
      "metadata": {
        "colab": {
          "base_uri": "https://localhost:8080/"
        },
        "id": "XaOX8HkJkTRl",
        "outputId": "0290562d-d6ef-4c7f-f353-be8beed169fc"
      },
      "execution_count": 20,
      "outputs": [
        {
          "output_type": "stream",
          "name": "stdout",
          "text": [
            "3.3333333333333335\n"
          ]
        }
      ]
    },
    {
      "cell_type": "code",
      "source": [
        "#(ii)Modulus operator\n",
        "remainder=10%3\n",
        "print(remainder)"
      ],
      "metadata": {
        "colab": {
          "base_uri": "https://localhost:8080/"
        },
        "id": "WOY4-KCflPeU",
        "outputId": "f0b40bf7-5ecd-4ab3-c032-1df1410e6519"
      },
      "execution_count": 23,
      "outputs": [
        {
          "output_type": "stream",
          "name": "stdout",
          "text": [
            "1\n"
          ]
        }
      ]
    },
    {
      "cell_type": "code",
      "source": [
        "#(iii)Floor division operator\n",
        "floored_result=10//3\n",
        "print(floored_result)"
      ],
      "metadata": {
        "colab": {
          "base_uri": "https://localhost:8080/"
        },
        "id": "UhcGIjujl40s",
        "outputId": "cb159de6-9cf7-4981-88b3-b719d04b0389"
      },
      "execution_count": 26,
      "outputs": [
        {
          "output_type": "stream",
          "name": "stdout",
          "text": [
            "3\n"
          ]
        }
      ]
    },
    {
      "cell_type": "code",
      "source": [
        "#(iv)Exponentiation operator\n",
        "power=2**3\n",
        "print(power)"
      ],
      "metadata": {
        "colab": {
          "base_uri": "https://localhost:8080/"
        },
        "id": "QCXbPRDUmS_7",
        "outputId": "c04f04ae-7541-417a-c9f7-b43052a03041"
      },
      "execution_count": 28,
      "outputs": [
        {
          "output_type": "stream",
          "name": "stdout",
          "text": [
            "8\n"
          ]
        }
      ]
    },
    {
      "cell_type": "code",
      "source": [
        "#Q4. Create a list of length 10 of your choice containing multiple types of data. Using for loop print the\n",
        "# element and its data type.\n",
        "\n",
        "#Answer\n",
        "data_list = [\n",
        "    42,                 # Integer\n",
        "    3.14,               # Float\n",
        "    'hello',            # String\n",
        "    True,               # Boolean\n",
        "    [1, 2, 3],          # List\n",
        "    {'key': 'value'},   # Dictionary\n",
        "    (1, 2, 3),          # Tuple\n",
        "    None,               # NoneType\n",
        "    complex(1, 2),      # Complex number\n",
        "    bytearray(b'abc')   # Bytearray\n",
        "]\n",
        "\n",
        "# Use a for loop to print each element and its data type\n",
        "for element in data_list:\n",
        "    print(f'Element: {element}, Type: {type(element)}')\n"
      ],
      "metadata": {
        "colab": {
          "base_uri": "https://localhost:8080/"
        },
        "id": "s_U2OV8Cmukq",
        "outputId": "03b7fdd9-1597-48d4-e7b2-01f536e85463"
      },
      "execution_count": 34,
      "outputs": [
        {
          "output_type": "stream",
          "name": "stdout",
          "text": [
            "Element: 42, Type: <class 'int'>\n",
            "Element: 3.14, Type: <class 'float'>\n",
            "Element: hello, Type: <class 'str'>\n",
            "Element: True, Type: <class 'bool'>\n",
            "Element: [1, 2, 3], Type: <class 'list'>\n",
            "Element: {'key': 'value'}, Type: <class 'dict'>\n",
            "Element: (1, 2, 3), Type: <class 'tuple'>\n",
            "Element: None, Type: <class 'NoneType'>\n",
            "Element: (1+2j), Type: <class 'complex'>\n",
            "Element: bytearray(b'abc'), Type: <class 'bytearray'>\n"
          ]
        }
      ]
    },
    {
      "cell_type": "code",
      "source": [
        "#Q5. Using a while loop, verify if the number A is purely divisible by number B and if so then how many\n",
        "#times it can be divisible.\n",
        "\n",
        "#Answer\n",
        "# Define the numbers A and B\n",
        "A = 100  # Example value for A\n",
        "B = 5    # Example value for B\n",
        "\n",
        "# Check if B is zero to avoid division by zero\n",
        "if B == 0:\n",
        "    print(\"Division by zero is not allowed.\")\n",
        "else:\n",
        "    # Initialize the count of divisions\n",
        "    count = 0\n",
        "\n",
        "    # Use a while loop to check divisibility\n",
        "    while A % B == 0:\n",
        "        # Divide A by B\n",
        "        A = A // B\n",
        "        # Increment the count\n",
        "        count += 1\n",
        "\n",
        "    # Print the result\n",
        "    print(f'The number can be divided by {B} a total of {count} times.')\n"
      ],
      "metadata": {
        "colab": {
          "base_uri": "https://localhost:8080/"
        },
        "id": "0wzRhxBMpkZg",
        "outputId": "18a8e758-00b2-4809-849f-2a72b8b90134"
      },
      "execution_count": 36,
      "outputs": [
        {
          "output_type": "stream",
          "name": "stdout",
          "text": [
            "The number can be divided by 5 a total of 2 times.\n"
          ]
        }
      ]
    },
    {
      "cell_type": "code",
      "source": [
        "#Q6. Create a list containing 25 int type data. Using for loop and if-else condition print if the element is\n",
        "#divisible by 3 or not.\n",
        "\n",
        "#Answer\n",
        "# Create a list of 25 integer elements\n",
        "int_list = [i for i in range(1, 26)]  # This creates a list with integers from 1 to 25\n",
        "\n",
        "# Iterate over each element in the list\n",
        "for element in int_list:\n",
        "    # Check if the element is divisible by 3\n",
        "    if element % 3 == 0:\n",
        "        print(f'{element} is divisible by 3.')\n",
        "    else:\n",
        "        print(f'{element} is not divisible by 3.')\n"
      ],
      "metadata": {
        "colab": {
          "base_uri": "https://localhost:8080/"
        },
        "id": "7JJzMcAZqI8d",
        "outputId": "30374c2e-52b9-4738-9a53-c19a299c4c6e"
      },
      "execution_count": 38,
      "outputs": [
        {
          "output_type": "stream",
          "name": "stdout",
          "text": [
            "1 is not divisible by 3.\n",
            "2 is not divisible by 3.\n",
            "3 is divisible by 3.\n",
            "4 is not divisible by 3.\n",
            "5 is not divisible by 3.\n",
            "6 is divisible by 3.\n",
            "7 is not divisible by 3.\n",
            "8 is not divisible by 3.\n",
            "9 is divisible by 3.\n",
            "10 is not divisible by 3.\n",
            "11 is not divisible by 3.\n",
            "12 is divisible by 3.\n",
            "13 is not divisible by 3.\n",
            "14 is not divisible by 3.\n",
            "15 is divisible by 3.\n",
            "16 is not divisible by 3.\n",
            "17 is not divisible by 3.\n",
            "18 is divisible by 3.\n",
            "19 is not divisible by 3.\n",
            "20 is not divisible by 3.\n",
            "21 is divisible by 3.\n",
            "22 is not divisible by 3.\n",
            "23 is not divisible by 3.\n",
            "24 is divisible by 3.\n",
            "25 is not divisible by 3.\n"
          ]
        }
      ]
    },
    {
      "cell_type": "code",
      "source": [
        "#Q7. What do you understand about mutable and immutable data types? Give examples for both showing\n",
        "#this property.\n",
        "\n",
        "#Answer\n",
        "\"\"\"\n",
        "Mutable Data Types\n",
        "Definition: Mutable data types are those whose values can be changed after they are created. This means that you can modify an object’s content without changing its identity.\n",
        "\n",
        "Examples:\n",
        "Lists:\n",
        "\"\"\"\n",
        "my_list = [1, 2, 3]\n",
        "print(\"Original list:\", my_list)\n",
        "\n",
        "my_list[0] = 10  # Modify an element\n",
        "print(\"Modified list:\", my_list)\n",
        "\n",
        "my_list.append(4)  # Add an element\n",
        "print(\"List after appending:\", my_list)\n",
        "\n"
      ],
      "metadata": {
        "colab": {
          "base_uri": "https://localhost:8080/"
        },
        "id": "qOLdNmnZqy4W",
        "outputId": "bc6e10df-c3b4-4910-98a8-b23ebdb473e2"
      },
      "execution_count": 40,
      "outputs": [
        {
          "output_type": "stream",
          "name": "stdout",
          "text": [
            "Original list: [1, 2, 3]\n",
            "Modified list: [10, 2, 3]\n",
            "List after appending: [10, 2, 3, 4]\n"
          ]
        }
      ]
    },
    {
      "cell_type": "code",
      "source": [
        "#Dictionaries:\n",
        "my_dict = {'a': 1, 'b': 2}\n",
        "print(\"Original dictionary:\", my_dict)\n",
        "\n",
        "my_dict['a'] = 10  # Modify a value\n",
        "print(\"Modified dictionary:\", my_dict)\n",
        "\n",
        "my_dict['c'] = 3  # Add a new key-value pair\n",
        "print(\"Dictionary after adding a new pair:\", my_dict)\n"
      ],
      "metadata": {
        "colab": {
          "base_uri": "https://localhost:8080/"
        },
        "id": "YNHeu7W4sjnv",
        "outputId": "3c9c7e44-e480-4932-c9bc-61f87756faee"
      },
      "execution_count": 42,
      "outputs": [
        {
          "output_type": "stream",
          "name": "stdout",
          "text": [
            "Original dictionary: {'a': 1, 'b': 2}\n",
            "Modified dictionary: {'a': 10, 'b': 2}\n",
            "Dictionary after adding a new pair: {'a': 10, 'b': 2, 'c': 3}\n"
          ]
        }
      ]
    },
    {
      "cell_type": "code",
      "source": [
        "\"\"\"\n",
        "Immutable Data Types\n",
        "Definition: Immutable data types are those whose values cannot be changed after they are created. Any modification creates a new object rather than altering the original object.\n",
        "\n",
        "Examples:\n",
        "Tuples:\n",
        "\"\"\"\n",
        "my_tuple = (1, 2, 3)\n",
        "print(\"Original tuple:\", my_tuple)\n",
        "\n",
        "# Trying to modify a tuple element will raise an error\n",
        "try:\n",
        "    my_tuple[0] = 10\n",
        "except TypeError as e:\n",
        "    print(\"Error:\", e)\n",
        "\n",
        "# Tuples themselves cannot be changed, but you can create a new tuple\n",
        "new_tuple = my_tuple + (4,)\n",
        "print(\"New tuple:\", new_tuple)\n"
      ],
      "metadata": {
        "colab": {
          "base_uri": "https://localhost:8080/"
        },
        "id": "ltH4c_eXsw2x",
        "outputId": "9b507243-8e8a-4f3c-8d6f-6c5c131bb108"
      },
      "execution_count": 44,
      "outputs": [
        {
          "output_type": "stream",
          "name": "stdout",
          "text": [
            "Original tuple: (1, 2, 3)\n",
            "Error: 'tuple' object does not support item assignment\n",
            "New tuple: (1, 2, 3, 4)\n"
          ]
        }
      ]
    },
    {
      "cell_type": "code",
      "source": [
        "#Strings:\n",
        "my_string = \"hello\"\n",
        "print(\"Original string:\", my_string)\n",
        "\n",
        "# Trying to modify a string element will raise an error\n",
        "try:\n",
        "    my_string[0] = 'H'\n",
        "except TypeError as e:\n",
        "    print(\"Error:\", e)\n",
        "\n",
        "# Creating a new string with a modification\n",
        "new_string = 'H' + my_string[1:]\n",
        "print(\"New string:\", new_string)\n"
      ],
      "metadata": {
        "colab": {
          "base_uri": "https://localhost:8080/"
        },
        "id": "xImpXwuNtR4s",
        "outputId": "f2afada7-5a6b-471e-a038-75b772fa06eb"
      },
      "execution_count": 45,
      "outputs": [
        {
          "output_type": "stream",
          "name": "stdout",
          "text": [
            "Original string: hello\n",
            "Error: 'str' object does not support item assignment\n",
            "New string: Hello\n"
          ]
        }
      ]
    }
  ]
}